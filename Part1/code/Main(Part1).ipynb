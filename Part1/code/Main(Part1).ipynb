{
 "cells": [
  {
   "cell_type": "code",
   "execution_count": null,
   "metadata": {},
   "outputs": [],
   "source": [
    "import shutil\n",
    "import os\n",
    "import stl10\n",
    "\n",
    "if not os.path.exists('./data/img'):\n",
    "    stl10.main()\n",
    "\n",
    "if os.path.exists('./img'):\n",
    "    # Download latest version\n",
    "    shutil.move('./img', './data')\n",
    "\n"
   ]
  },
  {
   "cell_type": "code",
   "execution_count": null,
   "metadata": {},
   "outputs": [
    {
     "ename": "NameError",
     "evalue": "name 'train_dataset' is not defined",
     "output_type": "error",
     "traceback": [
      "\u001b[1;31m---------------------------------------------------------------------------\u001b[0m",
      "\u001b[1;31mNameError\u001b[0m                                 Traceback (most recent call last)",
      "Cell \u001b[1;32mIn[2], line 13\u001b[0m\n\u001b[0;32m     11\u001b[0m lc_datasets\u001b[38;5;241m=\u001b[39m[]\n\u001b[0;32m     12\u001b[0m \u001b[38;5;28;01mfor\u001b[39;00m month_age \u001b[38;5;129;01min\u001b[39;00m month_ages:\n\u001b[1;32m---> 13\u001b[0m     va_datasets\u001b[38;5;241m.\u001b[39mappend(VisualAcuityDataset(\u001b[43mtrain_dataset\u001b[49m, month_age\u001b[38;5;241m=\u001b[39mmonth_age))\n\u001b[0;32m     14\u001b[0m     lc_datasets\u001b[38;5;241m.\u001b[39mappend(LimitedColorPerceptionDataset(train_dataset  , month_age\u001b[38;5;241m=\u001b[39mmonth_age))\n\u001b[0;32m     17\u001b[0m \u001b[38;5;66;03m# Now you can use va_dataset with a DataLoader\u001b[39;00m\n",
      "\u001b[1;31mNameError\u001b[0m: name 'train_dataset' is not defined"
     ]
    }
   ],
   "source": [
    "from VisualAcuityDataset import VisualAcuityDataset\n",
    "from LimitedColorPerception import LimitedColorPerceptionDataset\n",
    "import numpy as np\n",
    "import matplotlib.pyplot as plt\n",
    "from torchvision import transforms\n",
    "\n",
    "# Create the VisualAcuityDataset with a specific month_age\n",
    "month_ages = list(range(0, 13))  # Create a list of ages from 0 to 12\n",
    "va_datasets = []\n",
    "lc_datasets=[]\n",
    "for month_age in month_ages:\n",
    "    va_datasets.append(VisualAcuityDataset(train_dataset, month_age=month_age))\n",
    "    lc_datasets.append(LimitedColorPerceptionDataset(train_dataset  , month_age=month_age))\n",
    "\n",
    "\n",
    "# Now you can use va_dataset with a DataLoader\n",
    "from torch.utils.data import DataLoader\n",
    "x=input(\"Property:\").lower().strip()\n",
    "data_loaders = []  # List to hold DataLoaders\n",
    "# Create DataLoaders for each month_age\n",
    "if x=='va':\n",
    "    for month_age in month_ages:\n",
    "        data_loader=DataLoader(va_datasets[month_age], batch_size=32, shuffle=False)\n",
    "        data_loaders.append(data_loader)\n",
    "elif x=='lc':\n",
    "    for month_age in month_ages:\n",
    "        data_loader=DataLoader(lc_datasets[month_age], batch_size=32, shuffle=False)\n",
    "        data_loaders.append(data_loader)\n",
    "\n",
    "def show_images_in_sequence(data_loaders):\n",
    "    plt.figure(figsize=(25,25))\n",
    "    for month_age,data_loader in zip(month_ages,data_loaders):\n",
    "        for images,_ in data_loader:\n",
    "            first_image=images[0].permute(1, 2, 0).numpy()*255\n",
    "            first_image=first_image.astype(np.uint8)\n",
    "            \n",
    "            plt.subplot(1,len(data_loaders),month_age+1)\n",
    "            plt.imshow(first_image)\n",
    "            plt.axis('off')\n",
    "            plt.title(f\"{month_age} months\")\n",
    "            break\n",
    "        \n",
    "    plt.show()\n",
    "print(data_loaders)\n",
    "show_images_in_sequence(data_loaders)"
   ]
  }
 ],
 "metadata": {
  "kernelspec": {
   "display_name": "MAIN",
   "language": "python",
   "name": "python3"
  },
  "language_info": {
   "codemirror_mode": {
    "name": "ipython",
    "version": 3
   },
   "file_extension": ".py",
   "mimetype": "text/x-python",
   "name": "python",
   "nbconvert_exporter": "python",
   "pygments_lexer": "ipython3",
   "version": "3.11.9"
  }
 },
 "nbformat": 4,
 "nbformat_minor": 2
}
