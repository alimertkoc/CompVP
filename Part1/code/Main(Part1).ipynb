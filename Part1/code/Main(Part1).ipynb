{
 "cells": [
  {
   "cell_type": "code",
   "execution_count": 3,
   "metadata": {},
   "outputs": [
    {
     "ename": "ModuleNotFoundError",
     "evalue": "No module named 'VisualAcuityDataset'",
     "output_type": "error",
     "traceback": [
      "\u001b[1;31m---------------------------------------------------------------------------\u001b[0m",
      "\u001b[1;31mModuleNotFoundError\u001b[0m                       Traceback (most recent call last)",
      "Cell \u001b[1;32mIn[3], line 3\u001b[0m\n\u001b[0;32m      1\u001b[0m \u001b[38;5;28;01mimport\u001b[39;00m \u001b[38;5;21;01msys\u001b[39;00m\n\u001b[0;32m      2\u001b[0m sys\u001b[38;5;241m.\u001b[39mpath\u001b[38;5;241m.\u001b[39mappend(\u001b[38;5;124mr\u001b[39m\u001b[38;5;124m'\u001b[39m\u001b[38;5;124mC:\u001b[39m\u001b[38;5;124m\\\u001b[39m\u001b[38;5;124mUsers\u001b[39m\u001b[38;5;124m\\\u001b[39m\u001b[38;5;124mrasul\u001b[39m\u001b[38;5;124m\\\u001b[39m\u001b[38;5;124mOneDrive\u001b[39m\u001b[38;5;124m\\\u001b[39m\u001b[38;5;124mDesktop\u001b[39m\u001b[38;5;124m\\\u001b[39m\u001b[38;5;124m1. Semester\u001b[39m\u001b[38;5;124m\\\u001b[39m\u001b[38;5;124mBiomedical Signal Analysis\u001b[39m\u001b[38;5;124m\\\u001b[39m\u001b[38;5;124mExercises\u001b[39m\u001b[38;5;124m\\\u001b[39m\u001b[38;5;124mVisualAcuity.ipynb\u001b[39m\u001b[38;5;124m'\u001b[39m)\n\u001b[1;32m----> 3\u001b[0m \u001b[38;5;28;01mfrom\u001b[39;00m \u001b[38;5;21;01mVisualAcuityDataset\u001b[39;00m \u001b[38;5;28;01mimport\u001b[39;00m VisualAcuityDataset\n\u001b[0;32m      4\u001b[0m \u001b[38;5;28;01mfrom\u001b[39;00m \u001b[38;5;21;01mtorchvision\u001b[39;00m\u001b[38;5;21;01m.\u001b[39;00m\u001b[38;5;21;01mdatasets\u001b[39;00m \u001b[38;5;28;01mimport\u001b[39;00m CIFAR10\n\u001b[0;32m      5\u001b[0m \u001b[38;5;28;01mimport\u001b[39;00m \u001b[38;5;21;01mmatplotlib\u001b[39;00m\u001b[38;5;21;01m.\u001b[39;00m\u001b[38;5;21;01mpyplot\u001b[39;00m \u001b[38;5;28;01mas\u001b[39;00m \u001b[38;5;21;01mplt\u001b[39;00m\n",
      "\u001b[1;31mModuleNotFoundError\u001b[0m: No module named 'VisualAcuityDataset'"
     ]
    }
   ],
   "source": [
    "import sys\n",
    "sys.path.append('C:\\Users\\rasul\\OneDrive\\Desktop\\1. Semester\\Biomedical Signal Analysis\\Exercises\\VisualAcuity.ipynb')\n",
    "from VisualAcuityDataset import VisualAcuityDataset\n",
    "from torchvision.datasets import CIFAR10\n",
    "import matplotlib.pyplot as plt\n",
    "\n",
    "# Load the original dataset\n",
    "original_dataset = CIFAR10(root='data', train=True, download=True)\n",
    "\n",
    "# Create the VisualAcuityDataset with a specific month_age\n",
    "month_ages = list(range(0, 13))  # Create a list of ages from 0 to 12\n",
    "va_datasets = []\n",
    "for month_age in month_ages:\n",
    "    va_datasets.append(VisualAcuityDataset(original_dataset, month_age=month_age))\n",
    "\n",
    "# Now you can use va_dataset with a DataLoader\n",
    "from torch.utils.data import DataLoader\n",
    "\n",
    "# Create DataLoaders for each month_age\n",
    "data_loaders = []  # List to hold DataLoaders\n",
    "for month_age in month_ages:\n",
    "    data_loader = DataLoader(va_datasets[month_age], batch_size=32, shuffle=False)\n",
    "    data_loaders.append(data_loader)\n",
    "\n",
    "def show_first_image_from_loader(data_loader):\n",
    "    # Get the first batch from the data loader\n",
    "    for images, _ in data_loader:\n",
    "        # Get the first image from the batch\n",
    "        first_image = images[0]\n",
    "        # Convert the tensor to a numpy array and transpose it to (H, W, C) for displaying\n",
    "        first_image_np = first_image.permute(1, 2, 0).numpy()\n",
    "        # Display the image\n",
    "        plt.imshow(first_image_np)\n",
    "        plt.axis('off')  # Turn off axis\n",
    "        plt.show()\n",
    "        break  # Only show the first image\n",
    "\n",
    "# Call the function to display the first image from data_loader[0]\n",
    "show_first_image_from_loader(data_loaders[0])\n",
    "show_first_image_from_loader(data_loaders[4])\n",
    "show_first_image_from_loader(data_loaders[8])\n",
    "show_first_image_from_loader(data_loaders[11])\n",
    "print(len(data_loaders), data_loaders)\n",
    "pass"
   ]
  }
 ],
 "metadata": {
  "kernelspec": {
   "display_name": "MAIN",
   "language": "python",
   "name": "python3"
  },
  "language_info": {
   "codemirror_mode": {
    "name": "ipython",
    "version": 3
   },
   "file_extension": ".py",
   "mimetype": "text/x-python",
   "name": "python",
   "nbconvert_exporter": "python",
   "pygments_lexer": "ipython3",
   "version": "3.11.9"
  }
 },
 "nbformat": 4,
 "nbformat_minor": 2
}
